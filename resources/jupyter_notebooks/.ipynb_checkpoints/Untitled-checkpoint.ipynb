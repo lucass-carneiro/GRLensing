{
 "cells": [
  {
   "cell_type": "markdown",
   "id": "80b42fd7",
   "metadata": {},
   "source": [
    "# 1D metric plots"
   ]
  },
  {
   "cell_type": "code",
   "execution_count": null,
   "id": "c51730ea",
   "metadata": {},
   "outputs": [],
   "source": []
  }
 ],
 "metadata": {
  "kernelspec": {
   "display_name": "Python 3 (ipykernel)",
   "language": "python",
   "name": "python3"
  },
  "language_info": {
   "codemirror_mode": {
    "name": "ipython",
    "version": 3
   },
   "file_extension": ".py",
   "mimetype": "text/x-python",
   "name": "python",
   "nbconvert_exporter": "python",
   "pygments_lexer": "ipython3",
   "version": "3.10.4"
  }
 },
 "nbformat": 4,
 "nbformat_minor": 5
}
